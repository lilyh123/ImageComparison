{
  "nbformat": 4,
  "nbformat_minor": 0,
  "metadata": {
    "colab": {
      "provenance": [],
      "authorship_tag": "ABX9TyP65oyyRWPmjJvfEzHLF61A",
      "include_colab_link": true
    },
    "kernelspec": {
      "name": "python3",
      "display_name": "Python 3"
    },
    "language_info": {
      "name": "python"
    }
  },
  "cells": [
    {
      "cell_type": "markdown",
      "metadata": {
        "id": "view-in-github",
        "colab_type": "text"
      },
      "source": [
        "<a href=\"https://colab.research.google.com/github/lilyh123/ImageProcessing/blob/main/measuring_img.ipynb\" target=\"_parent\"><img src=\"https://colab.research.google.com/assets/colab-badge.svg\" alt=\"Open In Colab\"/></a>"
      ]
    },
    {
      "cell_type": "code",
      "execution_count": 16,
      "metadata": {
        "colab": {
          "base_uri": "https://localhost:8080/"
        },
        "id": "Fw532XEorCQ1",
        "outputId": "081a8743-c814-4771-a8f3-0cca6cc59338"
      },
      "outputs": [
        {
          "output_type": "stream",
          "name": "stdout",
          "text": [
            "Similarity using ORB is:  0.9732142857142857\n"
          ]
        }
      ],
      "source": [
        "from skimage.metrics import structural_similarity # image processing library\n",
        "import cv2 # a model of opencv\n",
        "from google.colab import files # library that allows the user to upload files\n",
        "\n",
        "def orb_sim(img1, img2):\n",
        "  orb = cv2.ORB_create()\n",
        "\n",
        "  keypoint_a, description_a = orb.detectAndCompute(img1, None)\n",
        "  keypoint_b, description_b = orb.detectAndCompute(img2, None)\n",
        "\n",
        "  bruteforce = cv2.BFMatcher(cv2.NORM_HAMMING, crossCheck = True)\n",
        "\n",
        "  matches = bruteforce.match(description_a, description_b)\n",
        "\n",
        "  similar_regions = [i for i in matches if i.distance < 75]\n",
        "  if len(matches) == 0:\n",
        "    return 0\n",
        "  return len(similar_regions) / len(matches)\n",
        "\n",
        "\n",
        "\n",
        "def structural_sim(img1, img2):\n",
        "  sim, diff = structural_similarity(img1, img2, full = True)\n",
        "  return sim\n",
        "\n",
        "#file = files.upload()\n",
        "img3 = cv2.imread('img3.jpg', 0)\n",
        "img4 = cv2.imread('img4.jpg', 0)\n",
        "\n",
        "orb_similarity = orb_sim(img3, img4)\n",
        "\n",
        "print(\"Similarity using ORB is: \", orb_similarity)\n",
        "\n",
        "from skimage.transform import resize\n",
        "\n",
        "#ssim = structural_sim(img3, img4)\n",
        "#print(\"Similarity using SSIM: \", ssim)"
      ]
    }
  ]
}